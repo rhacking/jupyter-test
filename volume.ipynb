{
 "cells": [
  {
   "cell_type": "code",
   "execution_count": 14,
   "metadata": {
    "collapsed": true
   },
   "outputs": [],
   "source": [
    "%matplotlib inline\n",
    "import ipyvolume as ipv\n",
    "import numpy as np\n",
    "from scipy.ndimage.filters import convolve as conv\n",
    "from scipy.ndimage.filters import gaussian_filter\n",
    "import matplotlib.pyplot as plt\n",
    "\n",
    "np.seterr(divide='ignore', invalid='ignore')\n",
    "\n",
    "def generate_spheres_test_volume(size, num_beads):\n",
    "    data = np.zeros((size, size, size))\n",
    "    spheres = np.random.randint(0, size, size=(3, num_beads))\n",
    "    for x in range(data.shape[0]):\n",
    "        for y in range(data.shape[1]):\n",
    "            for z in range(data.shape[2]):\n",
    "                if np.any(np.linalg.norm(spheres.T-[x, y, z], axis=1) < 4.8):\n",
    "                    data[x, y, z] = 1\n",
    "                    \n",
    "    return data\n",
    "\n",
    "def deconv_rl(data, iterations, blur):\n",
    "    estimate = 0.5 * np.ones_like(data)\n",
    "    for i in range(iterations):\n",
    "        print(\"It: {}\".format(i))\n",
    "        estimate = estimate * blur(data / blur(estimate))\n",
    "    \n",
    "    return estimate\n",
    "\n",
    "STATIC_VOL = True\n",
    "\n",
    "# psf = np.ones((10, 10, 10)) / 10**3\n",
    "psf = np.zeros((21, 21, 21))\n",
    "psf[10, 10, 10] = 1\n",
    "psf = gaussian_filter(psf, (2.5, 2.5, 2.5))"
   ]
  },
  {
   "cell_type": "code",
   "execution_count": 15,
   "metadata": {},
   "outputs": [
    {
     "data": {
      "application/vnd.jupyter.widget-view+json": {
       "model_id": "9194c86c57fd4d7093752636492c3bad",
       "version_major": 2,
       "version_minor": 0
      },
      "text/html": [
       "<p>Failed to display Jupyter Widget of type <code>VBox</code>.</p>\n",
       "<p>\n",
       "  If you're reading this message in the Jupyter Notebook or JupyterLab Notebook, it may mean\n",
       "  that the widgets JavaScript is still loading. If this message persists, it\n",
       "  likely means that the widgets JavaScript library is either not installed or\n",
       "  not enabled. See the <a href=\"https://ipywidgets.readthedocs.io/en/stable/user_install.html\">Jupyter\n",
       "  Widgets Documentation</a> for setup instructions.\n",
       "</p>\n",
       "<p>\n",
       "  If you're reading this message in another frontend (for example, a static\n",
       "  rendering on GitHub or <a href=\"https://nbviewer.jupyter.org/\">NBViewer</a>),\n",
       "  it may mean that your frontend doesn't currently support widgets.\n",
       "</p>\n"
      ],
      "text/plain": [
       "VBox(children=(VBox(children=(HBox(children=(Label(value='levels:'), FloatSlider(value=0.1, max=1.0, step=0.001), FloatSlider(value=0.5, max=1.0, step=0.001), FloatSlider(value=0.9, max=1.0, step=0.001))), HBox(children=(Label(value='opacities:'), FloatSlider(value=0.01, max=0.2, step=0.001), FloatSlider(value=0.05, max=0.2, step=0.001), FloatSlider(value=0.05, max=0.2, step=0.001))))), Figure(ambient_coefficient=1.0, camera_center=[0.0, 0.0, 0.0], data_max=0.004063880496917833, data_min=1.5341695647736615e-13, diffuse_coefficient=0.0, height=500, matrix_projection=[0.0, 0.0, 0.0, 0.0, 0.0, 0.0, 0.0, 0.0, 0.0, 0.0, 0.0, 0.0, 0.0, 0.0, 0.0, 0.0], matrix_world=[0.0, 0.0, 0.0, 0.0, 0.0, 0.0, 0.0, 0.0, 0.0, 0.0, 0.0, 0.0, 0.0, 0.0, 0.0, 0.0], specular_coefficient=0.0, style={'box': {'visible': True}, 'axes': {'label': {'color': 'black'}, 'ticklabel': {'color': 'black'}, 'color': 'black', 'visible': True}, 'background-color': 'white'}, tf=TransferFunctionWidgetJs3(level3=0.9), volume_data=array([[[1.53416956e-13, 7.01456874e-13, 2.73301157e-12, ...,\n",
       "         2.73301157e-12, 7.01456874e-13, 1.53416956e-13],\n",
       "        [7.01456874e-13, 3.20721879e-12, 1.24959444e-11, ...,\n",
       "         1.24959444e-11, 3.20721879e-12, 7.01456874e-13],\n",
       "        [2.73301157e-12, 1.24959444e-11, 4.86866148e-11, ...,\n",
       "         4.86866148e-11, 1.24959444e-11, 2.73301157e-12],\n",
       "        ...,\n",
       "        [2.73301157e-12, 1.24959444e-11, 4.86866148e-11, ...,\n",
       "         4.86866148e-11, 1.24959444e-11, 2.73301157e-12],\n",
       "        [7.01456874e-13, 3.20721879e-12, 1.24959444e-11, ...,\n",
       "         1.24959444e-11, 3.20721879e-12, 7.01456874e-13],\n",
       "        [1.53416956e-13, 7.01456874e-13, 2.73301157e-12, ...,\n",
       "         2.73301157e-12, 7.01456874e-13, 1.53416956e-13]],\n",
       "\n",
       "       [[7.01456874e-13, 3.20721879e-12, 1.24959444e-11, ...,\n",
       "         1.24959444e-11, 3.20721879e-12, 7.01456874e-13],\n",
       "        [3.20721879e-12, 1.46641266e-11, 5.71342717e-11, ...,\n",
       "         5.71342717e-11, 1.46641266e-11, 3.20721879e-12],\n",
       "        [1.24959444e-11, 5.71342717e-11, 2.22606167e-10, ...,\n",
       "         2.22606167e-10, 5.71342717e-11, 1.24959444e-11],\n",
       "        ...,\n",
       "        [1.24959444e-11, 5.71342717e-11, 2.22606167e-10, ...,\n",
       "         2.22606167e-10, 5.71342717e-11, 1.24959444e-11],\n",
       "        [3.20721879e-12, 1.46641266e-11, 5.71342717e-11, ...,\n",
       "         5.71342717e-11, 1.46641266e-11, 3.20721879e-12],\n",
       "        [7.01456874e-13, 3.20721879e-12, 1.24959444e-11, ...,\n",
       "         1.24959444e-11, 3.20721879e-12, 7.01456874e-13]],\n",
       "\n",
       "       [[2.73301157e-12, 1.24959444e-11, 4.86866148e-11, ...,\n",
       "         4.86866148e-11, 1.24959444e-11, 2.73301157e-12],\n",
       "        [1.24959444e-11, 5.71342717e-11, 2.22606167e-10, ...,\n",
       "         2.22606167e-10, 5.71342717e-11, 1.24959444e-11],\n",
       "        [4.86866148e-11, 2.22606167e-10, 8.67316656e-10, ...,\n",
       "         8.67316656e-10, 2.22606167e-10, 4.86866148e-11],\n",
       "        ...,\n",
       "        [4.86866148e-11, 2.22606167e-10, 8.67316656e-10, ...,\n",
       "         8.67316656e-10, 2.22606167e-10, 4.86866148e-11],\n",
       "        [1.24959444e-11, 5.71342717e-11, 2.22606167e-10, ...,\n",
       "         2.22606167e-10, 5.71342717e-11, 1.24959444e-11],\n",
       "        [2.73301157e-12, 1.24959444e-11, 4.86866148e-11, ...,\n",
       "         4.86866148e-11, 1.24959444e-11, 2.73301157e-12]],\n",
       "\n",
       "       ...,\n",
       "\n",
       "       [[2.73301157e-12, 1.24959444e-11, 4.86866148e-11, ...,\n",
       "         4.86866148e-11, 1.24959444e-11, 2.73301157e-12],\n",
       "        [1.24959444e-11, 5.71342717e-11, 2.22606167e-10, ...,\n",
       "         2.22606167e-10, 5.71342717e-11, 1.24959444e-11],\n",
       "        [4.86866148e-11, 2.22606167e-10, 8.67316656e-10, ...,\n",
       "         8.67316656e-10, 2.22606167e-10, 4.86866148e-11],\n",
       "        ...,\n",
       "        [4.86866148e-11, 2.22606167e-10, 8.67316656e-10, ...,\n",
       "         8.67316656e-10, 2.22606167e-10, 4.86866148e-11],\n",
       "        [1.24959444e-11, 5.71342717e-11, 2.22606167e-10, ...,\n",
       "         2.22606167e-10, 5.71342717e-11, 1.24959444e-11],\n",
       "        [2.73301157e-12, 1.24959444e-11, 4.86866148e-11, ...,\n",
       "         4.86866148e-11, 1.24959444e-11, 2.73301157e-12]],\n",
       "\n",
       "       [[7.01456874e-13, 3.20721879e-12, 1.24959444e-11, ...,\n",
       "         1.24959444e-11, 3.20721879e-12, 7.01456874e-13],\n",
       "        [3.20721879e-12, 1.46641266e-11, 5.71342717e-11, ...,\n",
       "         5.71342717e-11, 1.46641266e-11, 3.20721879e-12],\n",
       "        [1.24959444e-11, 5.71342717e-11, 2.22606167e-10, ...,\n",
       "         2.22606167e-10, 5.71342717e-11, 1.24959444e-11],\n",
       "        ...,\n",
       "        [1.24959444e-11, 5.71342717e-11, 2.22606167e-10, ...,\n",
       "         2.22606167e-10, 5.71342717e-11, 1.24959444e-11],\n",
       "        [3.20721879e-12, 1.46641266e-11, 5.71342717e-11, ...,\n",
       "         5.71342717e-11, 1.46641266e-11, 3.20721879e-12],\n",
       "        [7.01456874e-13, 3.20721879e-12, 1.24959444e-11, ...,\n",
       "         1.24959444e-11, 3.20721879e-12, 7.01456874e-13]],\n",
       "\n",
       "       [[1.53416956e-13, 7.01456874e-13, 2.73301157e-12, ...,\n",
       "         2.73301157e-12, 7.01456874e-13, 1.53416956e-13],\n",
       "        [7.01456874e-13, 3.20721879e-12, 1.24959444e-11, ...,\n",
       "         1.24959444e-11, 3.20721879e-12, 7.01456874e-13],\n",
       "        [2.73301157e-12, 1.24959444e-11, 4.86866148e-11, ...,\n",
       "         4.86866148e-11, 1.24959444e-11, 2.73301157e-12],\n",
       "        ...,\n",
       "        [2.73301157e-12, 1.24959444e-11, 4.86866148e-11, ...,\n",
       "         4.86866148e-11, 1.24959444e-11, 2.73301157e-12],\n",
       "        [7.01456874e-13, 3.20721879e-12, 1.24959444e-11, ...,\n",
       "         1.24959444e-11, 3.20721879e-12, 7.01456874e-13],\n",
       "        [1.53416956e-13, 7.01456874e-13, 2.73301157e-12, ...,\n",
       "         2.73301157e-12, 7.01456874e-13, 1.53416956e-13]]]), width=400, xlim=[0.0, 1.0], ylim=[0.0, 1.0], zlim=[0.0, 1.0])))"
      ]
     },
     "metadata": {},
     "output_type": "display_data"
    }
   ],
   "source": [
    "ipv.quickvolshow(psf)"
   ]
  },
  {
   "cell_type": "code",
   "execution_count": 16,
   "metadata": {
    "collapsed": true
   },
   "outputs": [],
   "source": [
    "vol = generate_spheres_test_volume(55, 12)"
   ]
  },
  {
   "cell_type": "code",
   "execution_count": 17,
   "metadata": {},
   "outputs": [
    {
     "data": {
      "application/vnd.jupyter.widget-view+json": {
       "model_id": "0628a04e53174a9a8033bdeb0af8da2f",
       "version_major": 2,
       "version_minor": 0
      },
      "text/html": [
       "<p>Failed to display Jupyter Widget of type <code>VBox</code>.</p>\n",
       "<p>\n",
       "  If you're reading this message in the Jupyter Notebook or JupyterLab Notebook, it may mean\n",
       "  that the widgets JavaScript is still loading. If this message persists, it\n",
       "  likely means that the widgets JavaScript library is either not installed or\n",
       "  not enabled. See the <a href=\"https://ipywidgets.readthedocs.io/en/stable/user_install.html\">Jupyter\n",
       "  Widgets Documentation</a> for setup instructions.\n",
       "</p>\n",
       "<p>\n",
       "  If you're reading this message in another frontend (for example, a static\n",
       "  rendering on GitHub or <a href=\"https://nbviewer.jupyter.org/\">NBViewer</a>),\n",
       "  it may mean that your frontend doesn't currently support widgets.\n",
       "</p>\n"
      ],
      "text/plain": [
       "VBox(children=(VBox(children=(HBox(children=(Label(value='levels:'), FloatSlider(value=0.1, max=1.0, step=0.001), FloatSlider(value=0.5, max=1.0, step=0.001), FloatSlider(value=0.9, max=1.0, step=0.001))), HBox(children=(Label(value='opacities:'), FloatSlider(value=0.01, max=0.2, step=0.001), FloatSlider(value=0.05, max=0.2, step=0.001), FloatSlider(value=0.05, max=0.2, step=0.001))))), Figure(ambient_coefficient=1.0, camera_center=[0.0, 0.0, 0.0], data_max=1.0, diffuse_coefficient=0.0, height=500, matrix_projection=[0.0, 0.0, 0.0, 0.0, 0.0, 0.0, 0.0, 0.0, 0.0, 0.0, 0.0, 0.0, 0.0, 0.0, 0.0, 0.0], matrix_world=[0.0, 0.0, 0.0, 0.0, 0.0, 0.0, 0.0, 0.0, 0.0, 0.0, 0.0, 0.0, 0.0, 0.0, 0.0, 0.0], specular_coefficient=0.0, style={'box': {'visible': True}, 'axes': {'label': {'color': 'black'}, 'ticklabel': {'color': 'black'}, 'color': 'black', 'visible': True}, 'background-color': 'white'}, tf=TransferFunctionWidgetJs3(level3=0.9), volume_data=array([[[0., 0., 0., ..., 0., 0., 0.],\n",
       "        [0., 0., 0., ..., 0., 0., 0.],\n",
       "        [0., 0., 0., ..., 0., 0., 0.],\n",
       "        ...,\n",
       "        [0., 0., 0., ..., 0., 0., 0.],\n",
       "        [0., 0., 0., ..., 0., 0., 0.],\n",
       "        [0., 0., 0., ..., 0., 0., 0.]],\n",
       "\n",
       "       [[0., 0., 0., ..., 0., 0., 0.],\n",
       "        [0., 0., 0., ..., 0., 0., 0.],\n",
       "        [0., 0., 0., ..., 0., 0., 0.],\n",
       "        ...,\n",
       "        [0., 0., 0., ..., 0., 0., 0.],\n",
       "        [0., 0., 0., ..., 0., 0., 0.],\n",
       "        [0., 0., 0., ..., 0., 0., 0.]],\n",
       "\n",
       "       [[0., 0., 0., ..., 0., 0., 0.],\n",
       "        [0., 0., 0., ..., 0., 0., 0.],\n",
       "        [0., 0., 0., ..., 0., 0., 0.],\n",
       "        ...,\n",
       "        [0., 0., 0., ..., 0., 0., 0.],\n",
       "        [0., 0., 0., ..., 0., 0., 0.],\n",
       "        [0., 0., 0., ..., 0., 0., 0.]],\n",
       "\n",
       "       ...,\n",
       "\n",
       "       [[0., 0., 0., ..., 0., 0., 0.],\n",
       "        [0., 0., 0., ..., 0., 0., 0.],\n",
       "        [0., 0., 0., ..., 0., 0., 0.],\n",
       "        ...,\n",
       "        [0., 0., 0., ..., 0., 0., 0.],\n",
       "        [0., 0., 0., ..., 0., 0., 0.],\n",
       "        [0., 0., 0., ..., 0., 0., 0.]],\n",
       "\n",
       "       [[0., 0., 0., ..., 0., 0., 0.],\n",
       "        [0., 0., 0., ..., 0., 0., 0.],\n",
       "        [0., 0., 0., ..., 0., 0., 0.],\n",
       "        ...,\n",
       "        [0., 0., 0., ..., 0., 0., 0.],\n",
       "        [0., 0., 0., ..., 0., 0., 0.],\n",
       "        [0., 0., 0., ..., 0., 0., 0.]],\n",
       "\n",
       "       [[0., 0., 0., ..., 0., 0., 0.],\n",
       "        [0., 0., 0., ..., 0., 0., 0.],\n",
       "        [0., 0., 0., ..., 0., 0., 0.],\n",
       "        ...,\n",
       "        [0., 0., 0., ..., 0., 0., 0.],\n",
       "        [0., 0., 0., ..., 0., 0., 0.],\n",
       "        [0., 0., 0., ..., 0., 0., 0.]]]), width=400, xlim=[0.0, 1.0], ylim=[0.0, 1.0], zlim=[0.0, 1.0])))"
      ]
     },
     "metadata": {},
     "output_type": "display_data"
    }
   ],
   "source": [
    "ipv.quickvolshow(vol)"
   ]
  },
  {
   "cell_type": "code",
   "execution_count": 18,
   "metadata": {
    "collapsed": true
   },
   "outputs": [],
   "source": [
    "blurred_vol = conv(vol, psf)"
   ]
  },
  {
   "cell_type": "code",
   "execution_count": 19,
   "metadata": {},
   "outputs": [
    {
     "data": {
      "application/vnd.jupyter.widget-view+json": {
       "model_id": "a2ee30af514a449ba8a632ae4a70bb47",
       "version_major": 2,
       "version_minor": 0
      },
      "text/html": [
       "<p>Failed to display Jupyter Widget of type <code>VBox</code>.</p>\n",
       "<p>\n",
       "  If you're reading this message in the Jupyter Notebook or JupyterLab Notebook, it may mean\n",
       "  that the widgets JavaScript is still loading. If this message persists, it\n",
       "  likely means that the widgets JavaScript library is either not installed or\n",
       "  not enabled. See the <a href=\"https://ipywidgets.readthedocs.io/en/stable/user_install.html\">Jupyter\n",
       "  Widgets Documentation</a> for setup instructions.\n",
       "</p>\n",
       "<p>\n",
       "  If you're reading this message in another frontend (for example, a static\n",
       "  rendering on GitHub or <a href=\"https://nbviewer.jupyter.org/\">NBViewer</a>),\n",
       "  it may mean that your frontend doesn't currently support widgets.\n",
       "</p>\n"
      ],
      "text/plain": [
       "VBox(children=(VBox(children=(HBox(children=(Label(value='levels:'), FloatSlider(value=0.1, max=1.0, step=0.001), FloatSlider(value=0.5, max=1.0, step=0.001), FloatSlider(value=0.9, max=1.0, step=0.001))), HBox(children=(Label(value='opacities:'), FloatSlider(value=0.01, max=0.2, step=0.001), FloatSlider(value=0.05, max=0.2, step=0.001), FloatSlider(value=0.05, max=0.2, step=0.001))))), Figure(ambient_coefficient=1.0, camera_center=[0.0, 0.0, 0.0], data_max=0.8731488417580971, diffuse_coefficient=0.0, height=500, matrix_projection=[0.0, 0.0, 0.0, 0.0, 0.0, 0.0, 0.0, 0.0, 0.0, 0.0, 0.0, 0.0, 0.0, 0.0, 0.0, 0.0], matrix_world=[0.0, 0.0, 0.0, 0.0, 0.0, 0.0, 0.0, 0.0, 0.0, 0.0, 0.0, 0.0, 0.0, 0.0, 0.0, 0.0], specular_coefficient=0.0, style={'box': {'visible': True}, 'axes': {'label': {'color': 'black'}, 'ticklabel': {'color': 'black'}, 'color': 'black', 'visible': True}, 'background-color': 'white'}, tf=TransferFunctionWidgetJs3(level3=0.9), volume_data=array([[[0.00000000e+00, 0.00000000e+00, 0.00000000e+00, ...,\n",
       "         0.00000000e+00, 0.00000000e+00, 0.00000000e+00],\n",
       "        [0.00000000e+00, 0.00000000e+00, 0.00000000e+00, ...,\n",
       "         0.00000000e+00, 0.00000000e+00, 0.00000000e+00],\n",
       "        [0.00000000e+00, 0.00000000e+00, 0.00000000e+00, ...,\n",
       "         0.00000000e+00, 0.00000000e+00, 0.00000000e+00],\n",
       "        ...,\n",
       "        [0.00000000e+00, 0.00000000e+00, 0.00000000e+00, ...,\n",
       "         0.00000000e+00, 0.00000000e+00, 0.00000000e+00],\n",
       "        [0.00000000e+00, 0.00000000e+00, 0.00000000e+00, ...,\n",
       "         0.00000000e+00, 0.00000000e+00, 0.00000000e+00],\n",
       "        [0.00000000e+00, 0.00000000e+00, 0.00000000e+00, ...,\n",
       "         0.00000000e+00, 0.00000000e+00, 0.00000000e+00]],\n",
       "\n",
       "       [[0.00000000e+00, 0.00000000e+00, 0.00000000e+00, ...,\n",
       "         0.00000000e+00, 0.00000000e+00, 0.00000000e+00],\n",
       "        [0.00000000e+00, 0.00000000e+00, 0.00000000e+00, ...,\n",
       "         0.00000000e+00, 0.00000000e+00, 0.00000000e+00],\n",
       "        [0.00000000e+00, 0.00000000e+00, 0.00000000e+00, ...,\n",
       "         0.00000000e+00, 0.00000000e+00, 0.00000000e+00],\n",
       "        ...,\n",
       "        [0.00000000e+00, 0.00000000e+00, 0.00000000e+00, ...,\n",
       "         0.00000000e+00, 0.00000000e+00, 0.00000000e+00],\n",
       "        [0.00000000e+00, 0.00000000e+00, 0.00000000e+00, ...,\n",
       "         0.00000000e+00, 0.00000000e+00, 0.00000000e+00],\n",
       "        [0.00000000e+00, 0.00000000e+00, 0.00000000e+00, ...,\n",
       "         0.00000000e+00, 0.00000000e+00, 0.00000000e+00]],\n",
       "\n",
       "       [[0.00000000e+00, 0.00000000e+00, 0.00000000e+00, ...,\n",
       "         6.89585083e-07, 3.00723421e-07, 1.41430444e-07],\n",
       "        [0.00000000e+00, 0.00000000e+00, 0.00000000e+00, ...,\n",
       "         9.30872121e-07, 4.08504303e-07, 1.93394463e-07],\n",
       "        [0.00000000e+00, 0.00000000e+00, 0.00000000e+00, ...,\n",
       "         1.35081074e-06, 5.96570060e-07, 2.84300840e-07],\n",
       "        ...,\n",
       "        [0.00000000e+00, 0.00000000e+00, 0.00000000e+00, ...,\n",
       "         0.00000000e+00, 0.00000000e+00, 0.00000000e+00],\n",
       "        [0.00000000e+00, 0.00000000e+00, 0.00000000e+00, ...,\n",
       "         0.00000000e+00, 0.00000000e+00, 0.00000000e+00],\n",
       "        [0.00000000e+00, 0.00000000e+00, 0.00000000e+00, ...,\n",
       "         0.00000000e+00, 0.00000000e+00, 0.00000000e+00]],\n",
       "\n",
       "       ...,\n",
       "\n",
       "       [[0.00000000e+00, 0.00000000e+00, 0.00000000e+00, ...,\n",
       "         0.00000000e+00, 0.00000000e+00, 0.00000000e+00],\n",
       "        [0.00000000e+00, 0.00000000e+00, 0.00000000e+00, ...,\n",
       "         0.00000000e+00, 0.00000000e+00, 0.00000000e+00],\n",
       "        [0.00000000e+00, 0.00000000e+00, 0.00000000e+00, ...,\n",
       "         0.00000000e+00, 0.00000000e+00, 0.00000000e+00],\n",
       "        ...,\n",
       "        [0.00000000e+00, 0.00000000e+00, 0.00000000e+00, ...,\n",
       "         6.71340078e-09, 7.82076908e-10, 0.00000000e+00],\n",
       "        [0.00000000e+00, 0.00000000e+00, 0.00000000e+00, ...,\n",
       "         4.13669695e-09, 4.84733532e-10, 0.00000000e+00],\n",
       "        [0.00000000e+00, 0.00000000e+00, 0.00000000e+00, ...,\n",
       "         2.78372014e-09, 3.26599778e-10, 0.00000000e+00]],\n",
       "\n",
       "       [[0.00000000e+00, 0.00000000e+00, 0.00000000e+00, ...,\n",
       "         0.00000000e+00, 0.00000000e+00, 0.00000000e+00],\n",
       "        [0.00000000e+00, 0.00000000e+00, 0.00000000e+00, ...,\n",
       "         0.00000000e+00, 0.00000000e+00, 0.00000000e+00],\n",
       "        [0.00000000e+00, 0.00000000e+00, 0.00000000e+00, ...,\n",
       "         0.00000000e+00, 0.00000000e+00, 0.00000000e+00],\n",
       "        ...,\n",
       "        [0.00000000e+00, 0.00000000e+00, 0.00000000e+00, ...,\n",
       "         4.15241530e-10, 0.00000000e+00, 0.00000000e+00],\n",
       "        [0.00000000e+00, 0.00000000e+00, 0.00000000e+00, ...,\n",
       "         2.27227947e-10, 0.00000000e+00, 0.00000000e+00],\n",
       "        [0.00000000e+00, 0.00000000e+00, 0.00000000e+00, ...,\n",
       "         1.34117831e-10, 0.00000000e+00, 0.00000000e+00]],\n",
       "\n",
       "       [[0.00000000e+00, 0.00000000e+00, 0.00000000e+00, ...,\n",
       "         0.00000000e+00, 0.00000000e+00, 0.00000000e+00],\n",
       "        [0.00000000e+00, 0.00000000e+00, 0.00000000e+00, ...,\n",
       "         0.00000000e+00, 0.00000000e+00, 0.00000000e+00],\n",
       "        [0.00000000e+00, 0.00000000e+00, 0.00000000e+00, ...,\n",
       "         0.00000000e+00, 0.00000000e+00, 0.00000000e+00],\n",
       "        ...,\n",
       "        [0.00000000e+00, 0.00000000e+00, 0.00000000e+00, ...,\n",
       "         0.00000000e+00, 0.00000000e+00, 0.00000000e+00],\n",
       "        [0.00000000e+00, 0.00000000e+00, 0.00000000e+00, ...,\n",
       "         0.00000000e+00, 0.00000000e+00, 0.00000000e+00],\n",
       "        [0.00000000e+00, 0.00000000e+00, 0.00000000e+00, ...,\n",
       "         0.00000000e+00, 0.00000000e+00, 0.00000000e+00]]]), width=400, xlim=[0.0, 1.0], ylim=[0.0, 1.0], zlim=[0.0, 1.0])))"
      ]
     },
     "metadata": {},
     "output_type": "display_data"
    }
   ],
   "source": [
    "ipv.quickvolshow(blurred_vol)"
   ]
  },
  {
   "cell_type": "code",
   "execution_count": 20,
   "metadata": {
    "collapsed": true
   },
   "outputs": [],
   "source": [
    "noisy_blurred_vol = blurred_vol + (np.random.poisson(lam=25, size=blurred_vol.shape) - 10) / 255."
   ]
  },
  {
   "cell_type": "code",
   "execution_count": 21,
   "metadata": {},
   "outputs": [
    {
     "data": {
      "application/vnd.jupyter.widget-view+json": {
       "model_id": "0cee74b48cc242cab666ba8d71de0c86",
       "version_major": 2,
       "version_minor": 0
      },
      "text/html": [
       "<p>Failed to display Jupyter Widget of type <code>VBox</code>.</p>\n",
       "<p>\n",
       "  If you're reading this message in the Jupyter Notebook or JupyterLab Notebook, it may mean\n",
       "  that the widgets JavaScript is still loading. If this message persists, it\n",
       "  likely means that the widgets JavaScript library is either not installed or\n",
       "  not enabled. See the <a href=\"https://ipywidgets.readthedocs.io/en/stable/user_install.html\">Jupyter\n",
       "  Widgets Documentation</a> for setup instructions.\n",
       "</p>\n",
       "<p>\n",
       "  If you're reading this message in another frontend (for example, a static\n",
       "  rendering on GitHub or <a href=\"https://nbviewer.jupyter.org/\">NBViewer</a>),\n",
       "  it may mean that your frontend doesn't currently support widgets.\n",
       "</p>\n"
      ],
      "text/plain": [
       "VBox(children=(VBox(children=(HBox(children=(Label(value='levels:'), FloatSlider(value=0.17, max=1.0, step=0.001), FloatSlider(value=0.5, max=1.0, step=0.001), FloatSlider(value=0.9, max=1.0, step=0.001))), HBox(children=(Label(value='opacities:'), FloatSlider(value=0.01, max=0.2, step=0.001), FloatSlider(value=0.05, max=0.2, step=0.001), FloatSlider(value=0.05, max=0.2, step=0.001))))), Figure(ambient_coefficient=1.0, camera_center=[0.0, 0.0, 0.0], data_max=1.0, diffuse_coefficient=0.0, height=500, matrix_projection=[0.0, 0.0, 0.0, 0.0, 0.0, 0.0, 0.0, 0.0, 0.0, 0.0, 0.0, 0.0, 0.0, 0.0, 0.0, 0.0], matrix_world=[0.0, 0.0, 0.0, 0.0, 0.0, 0.0, 0.0, 0.0, 0.0, 0.0, 0.0, 0.0, 0.0, 0.0, 0.0, 0.0], specular_coefficient=0.0, style={'box': {'visible': True}, 'axes': {'label': {'color': 'black'}, 'ticklabel': {'color': 'black'}, 'color': 'black', 'visible': True}, 'background-color': 'white'}, tf=TransferFunctionWidgetJs3(level1=0.17, level3=0.9), volume_data=array([[[0.05098039, 0.03137255, 0.05098039, ..., 0.03137255,\n",
       "         0.04313725, 0.05098039],\n",
       "        [0.09411765, 0.0627451 , 0.05882353, ..., 0.07843137,\n",
       "         0.05882353, 0.04313725],\n",
       "        [0.05098039, 0.08235294, 0.07843137, ..., 0.02352941,\n",
       "         0.02745098, 0.05882353],\n",
       "        ...,\n",
       "        [0.05490196, 0.07843137, 0.05098039, ..., 0.09411765,\n",
       "         0.04313725, 0.04313725],\n",
       "        [0.07843137, 0.0627451 , 0.05490196, ..., 0.05098039,\n",
       "         0.0745098 , 0.08627451],\n",
       "        [0.04705882, 0.0627451 , 0.04313725, ..., 0.03137255,\n",
       "         0.00784314, 0.04705882]],\n",
       "\n",
       "       [[0.06666667, 0.0745098 , 0.05098039, ..., 0.06666667,\n",
       "         0.0745098 , 0.08627451],\n",
       "        [0.05882353, 0.0745098 , 0.05098039, ..., 0.0627451 ,\n",
       "         0.05098039, 0.05490196],\n",
       "        [0.07058824, 0.07058824, 0.05098039, ..., 0.04705882,\n",
       "         0.0745098 , 0.05098039],\n",
       "        ...,\n",
       "        [0.0745098 , 0.05098039, 0.07843137, ..., 0.06666667,\n",
       "         0.05490196, 0.03921569],\n",
       "        [0.09019608, 0.05490196, 0.05098039, ..., 0.09411765,\n",
       "         0.09803922, 0.05490196],\n",
       "        [0.07058824, 0.06666667, 0.05882353, ..., 0.09019608,\n",
       "         0.03921569, 0.05882353]],\n",
       "\n",
       "       [[0.03921569, 0.06666667, 0.0745098 , ..., 0.03921638,\n",
       "         0.04313756, 0.05882367],\n",
       "        [0.05098039, 0.05882353, 0.04705882, ..., 0.06274603,\n",
       "         0.06274551, 0.01960804],\n",
       "        [0.03137255, 0.0745098 , 0.08627451, ..., 0.06274645,\n",
       "         0.0745104 , 0.07843166],\n",
       "        ...,\n",
       "        [0.03529412, 0.07058824, 0.01960784, ..., 0.04705882,\n",
       "         0.06666667, 0.08235294],\n",
       "        [0.05098039, 0.0745098 , 0.05490196, ..., 0.04705882,\n",
       "         0.02352941, 0.08235294],\n",
       "        [0.05490196, 0.04705882, 0.11372549, ..., 0.05882353,\n",
       "         0.05882353, 0.05098039]],\n",
       "\n",
       "       ...,\n",
       "\n",
       "       [[0.07843137, 0.04705882, 0.05490196, ..., 0.0745098 ,\n",
       "         0.04313725, 0.04313725],\n",
       "        [0.05882353, 0.03921569, 0.09803922, ..., 0.03921569,\n",
       "         0.04705882, 0.07843137],\n",
       "        [0.09019608, 0.06666667, 0.09411765, ..., 0.09411765,\n",
       "         0.05882353, 0.02745098],\n",
       "        ...,\n",
       "        [0.09019608, 0.05098039, 0.08627451, ..., 0.0509804 ,\n",
       "         0.04705882, 0.05490196],\n",
       "        [0.02352941, 0.07058824, 0.04705882, ..., 0.08627451,\n",
       "         0.03921569, 0.07843137],\n",
       "        [0.05490196, 0.0627451 , 0.08627451, ..., 0.06666667,\n",
       "         0.04313726, 0.08627451]],\n",
       "\n",
       "       [[0.05490196, 0.03137255, 0.0627451 , ..., 0.02352941,\n",
       "         0.04313725, 0.06666667],\n",
       "        [0.04705882, 0.05098039, 0.05098039, ..., 0.07843137,\n",
       "         0.04705882, 0.0627451 ],\n",
       "        [0.03137255, 0.0627451 , 0.0627451 , ..., 0.06666667,\n",
       "         0.05098039, 0.05490196],\n",
       "        ...,\n",
       "        [0.03529412, 0.03921569, 0.04313725, ..., 0.08627451,\n",
       "         0.0627451 , 0.06666667],\n",
       "        [0.08627451, 0.03921569, 0.07843137, ..., 0.05490196,\n",
       "         0.04313725, 0.05882353],\n",
       "        [0.05490196, 0.0627451 , 0.06666667, ..., 0.06666667,\n",
       "         0.08627451, 0.05490196]],\n",
       "\n",
       "       [[0.01960784, 0.03529412, 0.05098039, ..., 0.03921569,\n",
       "         0.01960784, 0.03529412],\n",
       "        [0.07843137, 0.05882353, 0.05882353, ..., 0.04705882,\n",
       "         0.03921569, 0.05490196],\n",
       "        [0.05098039, 0.05882353, 0.04313725, ..., 0.0745098 ,\n",
       "         0.04313725, 0.07843137],\n",
       "        ...,\n",
       "        [0.07058824, 0.07058824, 0.07058824, ..., 0.05490196,\n",
       "         0.04313725, 0.04705882],\n",
       "        [0.05882353, 0.07843137, 0.04705882, ..., 0.03921569,\n",
       "         0.04313725, 0.06666667],\n",
       "        [0.03137255, 0.07058824, 0.04313725, ..., 0.07843137,\n",
       "         0.09411765, 0.02745098]]]), width=400, xlim=[0.0, 1.0], ylim=[0.0, 1.0], zlim=[0.0, 1.0])))"
      ]
     },
     "metadata": {},
     "output_type": "display_data"
    }
   ],
   "source": [
    "ipv.quickvolshow(noisy_blurred_vol, level=[0.17, 0.50, 0.90], opacity=[0.01, 0.05, 0.1], data_min=0, data_max=1)"
   ]
  },
  {
   "cell_type": "code",
   "execution_count": null,
   "metadata": {
    "collapsed": true
   },
   "outputs": [],
   "source": [
    "blur = lambda x: conv(x, psf)\n",
    "result = deconv_rl(noisy_blurred_vol, 12, blur)\n",
    "result = result.clip(-0.5, 1.18)\n",
    "result = (result-result.min())/(result.max()-result.min())"
   ]
  },
  {
   "cell_type": "code",
   "execution_count": null,
   "metadata": {},
   "outputs": [],
   "source": [
    "ipv.quickvolshow(result, level=[0.17, 0.50, 0.90], opacity=[0.01, 0.05, 0.1], data_min=0, data_max=1)"
   ]
  },
  {
   "cell_type": "code",
   "execution_count": 27,
   "metadata": {
    "collapsed": true
   },
   "outputs": [],
   "source": [
    "diff = np.abs(vol - result)"
   ]
  },
  {
   "cell_type": "code",
   "execution_count": 28,
   "metadata": {},
   "outputs": [
    {
     "data": {
      "application/vnd.jupyter.widget-view+json": {
       "model_id": "46dd51992b1746af9bbc54e34b46c4f8",
       "version_major": 2,
       "version_minor": 0
      },
      "text/plain": [
       "A Jupyter Widget"
      ]
     },
     "metadata": {},
     "output_type": "display_data"
    }
   ],
   "source": [
    "ipv.quickvolshow(diff, level=[0.17, 0.50, 0.90], opacity=[0.01, 0.05, 0.1], data_min=0, data_max=1)"
   ]
  },
  {
   "cell_type": "code",
   "execution_count": null,
   "metadata": {},
   "outputs": [],
   "source": []
  }
 ],
 "metadata": {
  "gist_info": {
   "gist_id": null,
   "gist_url": null
  },
  "kernelspec": {
   "display_name": "Python 3",
   "language": "python",
   "name": "python3"
  },
  "language_info": {
   "codemirror_mode": {
    "name": "ipython",
    "version": 3
   },
   "file_extension": ".py",
   "mimetype": "text/x-python",
   "name": "python",
   "nbconvert_exporter": "python",
   "pygments_lexer": "ipython3",
   "version": "3.5.0"
  }
 },
 "nbformat": 4,
 "nbformat_minor": 2
}
