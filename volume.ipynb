{
 "cells": [
  {
   "cell_type": "code",
   "execution_count": 1,
   "metadata": {
    "collapsed": true
   },
   "outputs": [],
   "source": [
    "%matplotlib inline\n",
    "import ipyvolume as ipv\n",
    "import numpy as np\n",
    "from scipy.ndimage.filters import convolve as conv\n",
    "from scipy.ndimage.filters import gaussian_filter\n",
    "import matplotlib.pyplot as plt\n",
    "\n",
    "np.seterr(divide='ignore', invalid='ignore')\n",
    "\n",
    "def generate_spheres_test_volume(size, num_beads):\n",
    "    data = np.zeros((size, size, size))\n",
    "    spheres = np.random.randint(0, size, size=(3, num_beads))\n",
    "    for x in range(data.shape[0]):\n",
    "        for y in range(data.shape[1]):\n",
    "            for z in range(data.shape[2]):\n",
    "                if np.any(np.linalg.norm(spheres.T-[x, y, z], axis=1) < 6.5):\n",
    "                    data[x, y, z] = 1\n",
    "                    \n",
    "    return data\n",
    "\n",
    "def deconv_rl(data, iterations, blur):\n",
    "    estimate = 0.5 * np.ones_like(data)\n",
    "    for i in range(iterations):\n",
    "        estimate = estimate * blur(data / blur(estimate))\n",
    "    \n",
    "    return estimate\n",
    "\n",
    "STATIC_VOL = True\n",
    "\n",
    "# psf = np.ones((10, 10, 10)) / 10**3\n",
    "psf = np.zeros((21, 21, 21))\n",
    "psf[10, 10, 10] = 1\n",
    "psf = gaussian_filter(psf, (2.5, 2.5, 2.5))"
   ]
  },
  {
   "cell_type": "code",
   "execution_count": 2,
   "metadata": {},
   "outputs": [
    {
     "data": {
      "application/vnd.jupyter.widget-view+json": {
       "model_id": "83eeed61f5664223806ef9b6781c9a56",
       "version_major": 2,
       "version_minor": 0
      },
      "text/html": [
       "<p>Failed to display Jupyter Widget of type <code>VBox</code>.</p>\n",
       "<p>\n",
       "  If you're reading this message in the Jupyter Notebook or JupyterLab Notebook, it may mean\n",
       "  that the widgets JavaScript is still loading. If this message persists, it\n",
       "  likely means that the widgets JavaScript library is either not installed or\n",
       "  not enabled. See the <a href=\"https://ipywidgets.readthedocs.io/en/stable/user_install.html\">Jupyter\n",
       "  Widgets Documentation</a> for setup instructions.\n",
       "</p>\n",
       "<p>\n",
       "  If you're reading this message in another frontend (for example, a static\n",
       "  rendering on GitHub or <a href=\"https://nbviewer.jupyter.org/\">NBViewer</a>),\n",
       "  it may mean that your frontend doesn't currently support widgets.\n",
       "</p>\n"
      ],
      "text/plain": [
       "VBox(children=(VBox(children=(HBox(children=(Label(value='levels:'), FloatSlider(value=0.1, max=1.0, step=0.001), FloatSlider(value=0.5, max=1.0, step=0.001), FloatSlider(value=0.9, max=1.0, step=0.001))), HBox(children=(Label(value='opacities:'), FloatSlider(value=0.01, max=0.2, step=0.001), FloatSlider(value=0.05, max=0.2, step=0.001), FloatSlider(value=0.05, max=0.2, step=0.001))))), Figure(ambient_coefficient=1.0, camera_center=[0.0, 0.0, 0.0], data_max=0.004063880496917833, data_min=1.5341695647736615e-13, diffuse_coefficient=0.0, height=500, matrix_projection=[0.0, 0.0, 0.0, 0.0, 0.0, 0.0, 0.0, 0.0, 0.0, 0.0, 0.0, 0.0, 0.0, 0.0, 0.0, 0.0], matrix_world=[0.0, 0.0, 0.0, 0.0, 0.0, 0.0, 0.0, 0.0, 0.0, 0.0, 0.0, 0.0, 0.0, 0.0, 0.0, 0.0], specular_coefficient=0.0, style={'box': {'visible': True}, 'background-color': 'white', 'axes': {'label': {'color': 'black'}, 'ticklabel': {'color': 'black'}, 'visible': True, 'color': 'black'}}, tf=TransferFunctionWidgetJs3(level3=0.9), volume_data=array([[[1.53416956e-13, 7.01456874e-13, 2.73301157e-12, ...,\n",
       "         2.73301157e-12, 7.01456874e-13, 1.53416956e-13],\n",
       "        [7.01456874e-13, 3.20721879e-12, 1.24959444e-11, ...,\n",
       "         1.24959444e-11, 3.20721879e-12, 7.01456874e-13],\n",
       "        [2.73301157e-12, 1.24959444e-11, 4.86866148e-11, ...,\n",
       "         4.86866148e-11, 1.24959444e-11, 2.73301157e-12],\n",
       "        ...,\n",
       "        [2.73301157e-12, 1.24959444e-11, 4.86866148e-11, ...,\n",
       "         4.86866148e-11, 1.24959444e-11, 2.73301157e-12],\n",
       "        [7.01456874e-13, 3.20721879e-12, 1.24959444e-11, ...,\n",
       "         1.24959444e-11, 3.20721879e-12, 7.01456874e-13],\n",
       "        [1.53416956e-13, 7.01456874e-13, 2.73301157e-12, ...,\n",
       "         2.73301157e-12, 7.01456874e-13, 1.53416956e-13]],\n",
       "\n",
       "       [[7.01456874e-13, 3.20721879e-12, 1.24959444e-11, ...,\n",
       "         1.24959444e-11, 3.20721879e-12, 7.01456874e-13],\n",
       "        [3.20721879e-12, 1.46641266e-11, 5.71342717e-11, ...,\n",
       "         5.71342717e-11, 1.46641266e-11, 3.20721879e-12],\n",
       "        [1.24959444e-11, 5.71342717e-11, 2.22606167e-10, ...,\n",
       "         2.22606167e-10, 5.71342717e-11, 1.24959444e-11],\n",
       "        ...,\n",
       "        [1.24959444e-11, 5.71342717e-11, 2.22606167e-10, ...,\n",
       "         2.22606167e-10, 5.71342717e-11, 1.24959444e-11],\n",
       "        [3.20721879e-12, 1.46641266e-11, 5.71342717e-11, ...,\n",
       "         5.71342717e-11, 1.46641266e-11, 3.20721879e-12],\n",
       "        [7.01456874e-13, 3.20721879e-12, 1.24959444e-11, ...,\n",
       "         1.24959444e-11, 3.20721879e-12, 7.01456874e-13]],\n",
       "\n",
       "       [[2.73301157e-12, 1.24959444e-11, 4.86866148e-11, ...,\n",
       "         4.86866148e-11, 1.24959444e-11, 2.73301157e-12],\n",
       "        [1.24959444e-11, 5.71342717e-11, 2.22606167e-10, ...,\n",
       "         2.22606167e-10, 5.71342717e-11, 1.24959444e-11],\n",
       "        [4.86866148e-11, 2.22606167e-10, 8.67316656e-10, ...,\n",
       "         8.67316656e-10, 2.22606167e-10, 4.86866148e-11],\n",
       "        ...,\n",
       "        [4.86866148e-11, 2.22606167e-10, 8.67316656e-10, ...,\n",
       "         8.67316656e-10, 2.22606167e-10, 4.86866148e-11],\n",
       "        [1.24959444e-11, 5.71342717e-11, 2.22606167e-10, ...,\n",
       "         2.22606167e-10, 5.71342717e-11, 1.24959444e-11],\n",
       "        [2.73301157e-12, 1.24959444e-11, 4.86866148e-11, ...,\n",
       "         4.86866148e-11, 1.24959444e-11, 2.73301157e-12]],\n",
       "\n",
       "       ...,\n",
       "\n",
       "       [[2.73301157e-12, 1.24959444e-11, 4.86866148e-11, ...,\n",
       "         4.86866148e-11, 1.24959444e-11, 2.73301157e-12],\n",
       "        [1.24959444e-11, 5.71342717e-11, 2.22606167e-10, ...,\n",
       "         2.22606167e-10, 5.71342717e-11, 1.24959444e-11],\n",
       "        [4.86866148e-11, 2.22606167e-10, 8.67316656e-10, ...,\n",
       "         8.67316656e-10, 2.22606167e-10, 4.86866148e-11],\n",
       "        ...,\n",
       "        [4.86866148e-11, 2.22606167e-10, 8.67316656e-10, ...,\n",
       "         8.67316656e-10, 2.22606167e-10, 4.86866148e-11],\n",
       "        [1.24959444e-11, 5.71342717e-11, 2.22606167e-10, ...,\n",
       "         2.22606167e-10, 5.71342717e-11, 1.24959444e-11],\n",
       "        [2.73301157e-12, 1.24959444e-11, 4.86866148e-11, ...,\n",
       "         4.86866148e-11, 1.24959444e-11, 2.73301157e-12]],\n",
       "\n",
       "       [[7.01456874e-13, 3.20721879e-12, 1.24959444e-11, ...,\n",
       "         1.24959444e-11, 3.20721879e-12, 7.01456874e-13],\n",
       "        [3.20721879e-12, 1.46641266e-11, 5.71342717e-11, ...,\n",
       "         5.71342717e-11, 1.46641266e-11, 3.20721879e-12],\n",
       "        [1.24959444e-11, 5.71342717e-11, 2.22606167e-10, ...,\n",
       "         2.22606167e-10, 5.71342717e-11, 1.24959444e-11],\n",
       "        ...,\n",
       "        [1.24959444e-11, 5.71342717e-11, 2.22606167e-10, ...,\n",
       "         2.22606167e-10, 5.71342717e-11, 1.24959444e-11],\n",
       "        [3.20721879e-12, 1.46641266e-11, 5.71342717e-11, ...,\n",
       "         5.71342717e-11, 1.46641266e-11, 3.20721879e-12],\n",
       "        [7.01456874e-13, 3.20721879e-12, 1.24959444e-11, ...,\n",
       "         1.24959444e-11, 3.20721879e-12, 7.01456874e-13]],\n",
       "\n",
       "       [[1.53416956e-13, 7.01456874e-13, 2.73301157e-12, ...,\n",
       "         2.73301157e-12, 7.01456874e-13, 1.53416956e-13],\n",
       "        [7.01456874e-13, 3.20721879e-12, 1.24959444e-11, ...,\n",
       "         1.24959444e-11, 3.20721879e-12, 7.01456874e-13],\n",
       "        [2.73301157e-12, 1.24959444e-11, 4.86866148e-11, ...,\n",
       "         4.86866148e-11, 1.24959444e-11, 2.73301157e-12],\n",
       "        ...,\n",
       "        [2.73301157e-12, 1.24959444e-11, 4.86866148e-11, ...,\n",
       "         4.86866148e-11, 1.24959444e-11, 2.73301157e-12],\n",
       "        [7.01456874e-13, 3.20721879e-12, 1.24959444e-11, ...,\n",
       "         1.24959444e-11, 3.20721879e-12, 7.01456874e-13],\n",
       "        [1.53416956e-13, 7.01456874e-13, 2.73301157e-12, ...,\n",
       "         2.73301157e-12, 7.01456874e-13, 1.53416956e-13]]]), width=400, xlim=[0.0, 1.0], ylim=[0.0, 1.0], zlim=[0.0, 1.0])))"
      ]
     },
     "metadata": {},
     "output_type": "display_data"
    }
   ],
   "source": [
    "ipv.quickvolshow(psf)"
   ]
  },
  {
   "cell_type": "code",
   "execution_count": 19,
   "metadata": {
    "collapsed": true
   },
   "outputs": [],
   "source": [
    "vol = generate_spheres_test_volume(72, 12)"
   ]
  },
  {
   "cell_type": "code",
   "execution_count": 20,
   "metadata": {},
   "outputs": [
    {
     "data": {
      "application/vnd.jupyter.widget-view+json": {
       "model_id": "1bc349cab155479eaf5757fe8b82234b",
       "version_major": 2,
       "version_minor": 0
      },
      "text/plain": [
       "A Jupyter Widget"
      ]
     },
     "metadata": {},
     "output_type": "display_data"
    }
   ],
   "source": [
    "ipv.quickvolshow(vol)"
   ]
  },
  {
   "cell_type": "code",
   "execution_count": 21,
   "metadata": {
    "collapsed": true
   },
   "outputs": [],
   "source": [
    "blurred_vol = conv(vol, psf)"
   ]
  },
  {
   "cell_type": "code",
   "execution_count": 22,
   "metadata": {},
   "outputs": [
    {
     "data": {
      "application/vnd.jupyter.widget-view+json": {
       "model_id": "9be0ea94080b419bb0e8a4734bb0aad4",
       "version_major": 2,
       "version_minor": 0
      },
      "text/plain": [
       "A Jupyter Widget"
      ]
     },
     "metadata": {},
     "output_type": "display_data"
    }
   ],
   "source": [
    "ipv.quickvolshow(blurred_vol)"
   ]
  },
  {
   "cell_type": "code",
   "execution_count": 23,
   "metadata": {
    "collapsed": true
   },
   "outputs": [],
   "source": [
    "noisy_blurred_vol = blurred_vol + (np.random.poisson(lam=25, size=blurred_vol.shape) - 10) / 255."
   ]
  },
  {
   "cell_type": "code",
   "execution_count": 24,
   "metadata": {},
   "outputs": [
    {
     "data": {
      "application/vnd.jupyter.widget-view+json": {
       "model_id": "ec76cc67d5b545eeb44def25045deb91",
       "version_major": 2,
       "version_minor": 0
      },
      "text/plain": [
       "A Jupyter Widget"
      ]
     },
     "metadata": {},
     "output_type": "display_data"
    }
   ],
   "source": [
    "ipv.quickvolshow(noisy_blurred_vol, level=[0.17, 0.50, 0.90], opacity=[0.01, 0.05, 0.1], data_min=0, data_max=1)"
   ]
  },
  {
   "cell_type": "code",
   "execution_count": 25,
   "metadata": {
    "collapsed": true
   },
   "outputs": [],
   "source": [
    "blur = lambda x: conv(x, psf)\n",
    "result = deconv_rl(noisy_blurred_vol, 22, blur)\n",
    "result = result.clip(-0.5, 1.18)\n",
    "result = (result-result.min())/(result.max()-result.min())"
   ]
  },
  {
   "cell_type": "code",
   "execution_count": 26,
   "metadata": {},
   "outputs": [
    {
     "data": {
      "application/vnd.jupyter.widget-view+json": {
       "model_id": "01d007a473bc4fd79e9878b688ba131e",
       "version_major": 2,
       "version_minor": 0
      },
      "text/plain": [
       "A Jupyter Widget"
      ]
     },
     "metadata": {},
     "output_type": "display_data"
    }
   ],
   "source": [
    "ipv.quickvolshow(result, level=[0.17, 0.50, 0.90], opacity=[0.01, 0.05, 0.1], data_min=0, data_max=1)"
   ]
  },
  {
   "cell_type": "code",
   "execution_count": 27,
   "metadata": {
    "collapsed": true
   },
   "outputs": [],
   "source": [
    "diff = np.abs(vol - result)"
   ]
  },
  {
   "cell_type": "code",
   "execution_count": 28,
   "metadata": {},
   "outputs": [
    {
     "data": {
      "application/vnd.jupyter.widget-view+json": {
       "model_id": "46dd51992b1746af9bbc54e34b46c4f8",
       "version_major": 2,
       "version_minor": 0
      },
      "text/plain": [
       "A Jupyter Widget"
      ]
     },
     "metadata": {},
     "output_type": "display_data"
    }
   ],
   "source": [
    "ipv.quickvolshow(diff, level=[0.17, 0.50, 0.90], opacity=[0.01, 0.05, 0.1], data_min=0, data_max=1)"
   ]
  },
  {
   "cell_type": "code",
   "execution_count": null,
   "metadata": {},
   "outputs": [],
   "source": []
  }
 ],
 "metadata": {
  "gist_info": {
   "gist_id": null,
   "gist_url": null
  },
  "kernelspec": {
   "display_name": "Python 3",
   "language": "python",
   "name": "python3"
  },
  "language_info": {
   "codemirror_mode": {
    "name": "ipython",
    "version": 3
   },
   "file_extension": ".py",
   "mimetype": "text/x-python",
   "name": "python",
   "nbconvert_exporter": "python",
   "pygments_lexer": "ipython3",
   "version": "3.5.0"
  }
 },
 "nbformat": 4,
 "nbformat_minor": 2
}
