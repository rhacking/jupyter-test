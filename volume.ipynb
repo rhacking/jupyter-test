{
 "cells": [
  {
   "cell_type": "code",
   "execution_count": null,
   "metadata": {
    "collapsed": true
   },
   "outputs": [],
   "source": [
    "%matplotlib inline\n",
    "import ipyvolume as ipv\n",
    "import numpy as np\n",
    "from scipy.ndimage.filters import convolve as conv\n",
    "from scipy.ndimage.filters import gaussian_filter\n",
    "import matplotlib.pyplot as plt\n",
    "from skimage import feature\n",
    "\n",
    "np.seterr(divide='ignore', invalid='ignore')\n",
    "\n",
    "def generate_spheres_test_volume(size, num_beads):\n",
    "    data = np.zeros((size, size, size))\n",
    "    spheres = np.random.randint(5, size-5, size=(3, num_beads))\n",
    "    for x in range(data.shape[0]):\n",
    "        for y in range(data.shape[1]):\n",
    "            for z in range(data.shape[2]):\n",
    "                if np.any(np.linalg.norm(spheres.T-[x, y, z], axis=1) < 4.8):\n",
    "                    data[x, y, z] = 1\n",
    "                    \n",
    "    return data\n",
    "\n",
    "def deconv_rl(data, iterations, blur):\n",
    "    estimate = 0.5 * np.ones_like(data)\n",
    "    for i in range(iterations):\n",
    "        print(\"It: {}\".format(i))\n",
    "        estimate = estimate * blur(data / blur(estimate))\n",
    "    \n",
    "    return estimate\n",
    "\n",
    "def extract_area(data, point, size):\n",
    "    data = np.pad(data, ((size, size), (size, size), (size, size)), mode='constant', constant_values=0)\n",
    "    point = np.add(point, (size, size, size))\n",
    "    return data[int(point[0]-size):int(point[0]+size), int(point[1]-size):int(point[1]+size), int(point[2]-size):int(point[2]+size)]\n",
    "\n",
    "def gaussian_3d(x, A, mu_x, mu_y, mu_z, sigma_x, sigma_y, sigma_z):\n",
    "    return (A * np.exp(-(\n",
    "        (x[0]-mu_x)**2 / (2*sigma_x**2) +\n",
    "        (x[1]-mu_y)**2 / (2*sigma_y**2) +\n",
    "        (x[2]-mu_z)**2 / (2*sigma_z**2)\n",
    "    )))\n",
    "\n",
    "def fit_gaussian(data: np.ndarray):\n",
    "    from scipy.optimize import curve_fit\n",
    "    xs = np.arange(data.shape[0])\n",
    "    ys = np.arange(data.shape[1])\n",
    "    zs = np.arange(data.shape[2])\n",
    "    xv, yv, zv = np.meshgrid(xs, ys, zs)\n",
    "    xv = xv.ravel()\n",
    "    yv = yv.ravel()\n",
    "    zv = zv.ravel()\n",
    "    xdata = np.vstack((xv, yv, zv))\n",
    "\n",
    "    # start = [data.shape[0]//2, data.shape[1]//2, data.shape[2]//2, r, r, r]\n",
    "    upper_bounds = [np.inf, data.shape[0], data.shape[1], data.shape[2], np.inf, np.inf, np.inf]\n",
    "    p0 = (1, data.shape[0]//2, data.shape[1]//2, data.shape[2]//2, 1, 1, 1)\n",
    "    popt, _ = curve_fit(gaussian_3d, xdata, data[xv, yv, zv], bounds=(np.zeros((7, )), upper_bounds), p0=p0)\n",
    "\n",
    "    # print(popt[4:])\n",
    "    return popt[4:]\n",
    "\n",
    "STATIC_VOL = True\n",
    "\n",
    "# psf = np.ones((10, 10, 10)) / 10**3\n",
    "psf = np.zeros((13, 13, 13))\n",
    "psf[6, 6, 6] = 1\n",
    "psf = gaussian_filter(psf, (1, 1, 1))"
   ]
  },
  {
   "cell_type": "markdown",
   "metadata": {},
   "source": [
    "# de psf"
   ]
  },
  {
   "cell_type": "code",
   "execution_count": null,
   "metadata": {},
   "outputs": [],
   "source": [
    "ipv.quickvolshow(psf)"
   ]
  },
  {
   "cell_type": "code",
   "execution_count": null,
   "metadata": {
    "collapsed": true
   },
   "outputs": [],
   "source": [
    "vol = generate_spheres_test_volume(55, 12)\n",
    "vol = np.pad(vol, 9, 'constant', constant_values=0)\n",
    "vol[5, 5, 5] = 1"
   ]
  },
  {
   "cell_type": "markdown",
   "metadata": {},
   "source": [
    "# het gegenereerde input volume"
   ]
  },
  {
   "cell_type": "code",
   "execution_count": null,
   "metadata": {},
   "outputs": [],
   "source": [
    "ipv.quickvolshow(vol)"
   ]
  },
  {
   "cell_type": "code",
   "execution_count": null,
   "metadata": {
    "collapsed": true
   },
   "outputs": [],
   "source": [
    "blurred_vol = conv(vol, psf)"
   ]
  },
  {
   "cell_type": "markdown",
   "metadata": {},
   "source": [
    "# het geblurrede volume"
   ]
  },
  {
   "cell_type": "code",
   "execution_count": null,
   "metadata": {},
   "outputs": [],
   "source": [
    "ipv.quickvolshow(blurred_vol)"
   ]
  },
  {
   "cell_type": "markdown",
   "metadata": {},
   "source": [
    "# De bead detecteren en de sigma estimeren"
   ]
  },
  {
   "cell_type": "code",
   "execution_count": null,
   "metadata": {},
   "outputs": [],
   "source": [
    "blobs = feature.blob_log(blurred_vol[:10, :10, :10], threshold=.001)"
   ]
  },
  {
   "cell_type": "code",
   "execution_count": null,
   "metadata": {},
   "outputs": [],
   "source": [
    "blob_area = extract_area(blurred_vol, blobs[0, :3], 5)\n",
    "est_sigma = fit_gaussian(blob_area)"
   ]
  },
  {
   "cell_type": "code",
   "execution_count": null,
   "metadata": {
    "collapsed": true
   },
   "outputs": [],
   "source": [
    "noisy_blurred_vol = blurred_vol + (np.random.poisson(lam=25, size=blurred_vol.shape) - 10) / 255."
   ]
  },
  {
   "cell_type": "markdown",
   "metadata": {},
   "source": [
    "# Het volume met noise"
   ]
  },
  {
   "cell_type": "code",
   "execution_count": null,
   "metadata": {},
   "outputs": [],
   "source": [
    "ipv.quickvolshow(noisy_blurred_vol, level=[0.17, 0.50, 0.90], opacity=[0.01, 0.05, 0.1], data_min=0, data_max=1)"
   ]
  },
  {
   "cell_type": "markdown",
   "metadata": {},
   "source": [
    "# Deconvolven met de gestimeerde sigma"
   ]
  },
  {
   "cell_type": "code",
   "execution_count": null,
   "metadata": {
    "collapsed": true
   },
   "outputs": [],
   "source": [
    "blur = lambda x: gaussian_filter(x, est_sigma)\n",
    "result = deconv_rl(noisy_blurred_vol, 20, blur)\n",
    "result = result.clip(-0.5, 1.18)\n",
    "result = (result-result.min())/(result.max()-result.min())"
   ]
  },
  {
   "cell_type": "code",
   "execution_count": null,
   "metadata": {},
   "outputs": [],
   "source": [
    "ipv.quickvolshow(result, level=[0.17, 0.50, 0.90], opacity=[0.01, 0.05, 0.1], data_min=0, data_max=1)"
   ]
  },
  {
   "cell_type": "markdown",
   "metadata": {},
   "source": [
    "# Het verschil tussen het origineel en het gedeconvolvede resultaat"
   ]
  },
  {
   "cell_type": "code",
   "execution_count": null,
   "metadata": {
    "collapsed": true
   },
   "outputs": [],
   "source": [
    "diff = np.abs(vol - result)"
   ]
  },
  {
   "cell_type": "code",
   "execution_count": null,
   "metadata": {},
   "outputs": [],
   "source": [
    "ipv.quickvolshow(diff, level=[0.17, 0.50, 0.90], opacity=[0.01, 0.05, 0.1], data_min=0, data_max=1)"
   ]
  },
  {
   "cell_type": "code",
   "execution_count": null,
   "metadata": {},
   "outputs": [],
   "source": []
  }
 ],
 "metadata": {
  "gist_info": {
   "gist_id": null,
   "gist_url": null
  },
  "kernelspec": {
   "display_name": "Python 3",
   "language": "python",
   "name": "python3"
  },
  "language_info": {
   "codemirror_mode": {
    "name": "ipython",
    "version": 3
   },
   "file_extension": ".py",
   "mimetype": "text/x-python",
   "name": "python",
   "nbconvert_exporter": "python",
   "pygments_lexer": "ipython3",
   "version": "3.5.0"
  }
 },
 "nbformat": 4,
 "nbformat_minor": 2
}
